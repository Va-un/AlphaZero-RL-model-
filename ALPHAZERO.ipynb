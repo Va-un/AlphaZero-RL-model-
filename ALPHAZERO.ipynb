{
  "nbformat": 4,
  "nbformat_minor": 0,
  "metadata": {
    "colab": {
      "provenance": [],
      "include_colab_link": true
    },
    "kernelspec": {
      "name": "python3",
      "display_name": "Python 3"
    },
    "language_info": {
      "name": "python"
    }
  },
  "cells": [
    {
      "cell_type": "markdown",
      "metadata": {
        "id": "view-in-github",
        "colab_type": "text"
      },
      "source": [
        "<a href=\"https://colab.research.google.com/github/Va-un/AlphaZero-RL-model-/blob/main/ALPHAZERO.ipynb\" target=\"_parent\"><img src=\"https://colab.research.google.com/assets/colab-badge.svg\" alt=\"Open In Colab\"/></a>"
      ]
    },
    {
      "cell_type": "code",
      "execution_count": null,
      "metadata": {
        "id": "L-MFakt9ZFdT"
      },
      "outputs": [],
      "source": [
        "import numpy as np"
      ]
    },
    {
      "cell_type": "code",
      "source": [
        "class TicTacToe:\n",
        "  def __init__(self):\n",
        "      self.row_count = 3\n",
        "      self.column_count = 3\n",
        "      self.action_size = self.row_count * self.column_count\n",
        "\n",
        "  def get_initial_state(self):\n",
        "    return np.zeros((self.row_count,self.column_count))\n",
        "\n",
        "  def get_next_state(self,state,action,player):\n",
        "    '''\n",
        "    Methord is used to encode actions in to matrix form and assign it to the  player who has played it\n",
        "    '''\n",
        "    row = action // self.column_count\n",
        "    column = action % self.column_count\n",
        "    state[row,column] = player\n",
        "    return state\n",
        "\n",
        "  def get_valid_moves(self,state):\n",
        "    return (state.reshape(-1) == 0).astype(np.uint8)\n",
        "\n",
        "  def check_win(self,state,action):\n",
        "    row = action // self.column_count\n",
        "    column = action % self.column_count\n",
        "    player = state[row,column]\n",
        "\n",
        "    return (\n",
        "        np.sum(state[row,:]) == player * self.column_count or\n",
        "        np.sum(state[:,column]) == player * self.row_count or\n",
        "        np.sum(np.diag(state)) == player * self.row_count  or\n",
        "        np.sum(np.diag(np.flip(state,axis = 0))) == player * self.row_count\n",
        "    )\n",
        "  def get_value_and_terminated(self, state, action):\n",
        "        if self.check_win(state, action):\n",
        "            return 1, True\n",
        "        if np.sum(self.get_valid_moves(state)) == 0:\n",
        "            return 0, True\n",
        "        return 0, False\n",
        "\n",
        "  def get_opponent(self,player):\n",
        "    return -player"
      ],
      "metadata": {
        "id": "CTqcnD8KZPMK"
      },
      "execution_count": null,
      "outputs": []
    },
    {
      "cell_type": "code",
      "source": [
        "tictactoe = TicTacToe()\n",
        "player = 1\n",
        "\n",
        "state = tictactoe.get_initial_state()\n",
        "\n",
        "while True:\n",
        "  print(state)\n",
        "  valid_moves = tictactoe.get_valid_moves(state)\n",
        "  print('valid_moves', [i for i in range(tictactoe.action_size) if valid_moves[1] == 1])\n",
        "  action = int(input(f'{player}:'))\n",
        "\n",
        "  if valid_moves[action] == 0:\n",
        "    print('action not valid')\n",
        "    continue\n",
        "\n",
        "  state = tictactoe.get_next_state(state, action, player)\n",
        "\n",
        "  value ,is_terminal = tictactoe.get_value_and_terminated(state,action)\n",
        "\n",
        "  if is_terminal:\n",
        "    print(state)\n",
        "    if value == 1:\n",
        "      print(player,'won')\n",
        "    else:\n",
        "      print(\"draw\")\n",
        "    break\n",
        "\n",
        "  player = tictactoe.get_opponent(player)"
      ],
      "metadata": {
        "colab": {
          "base_uri": "https://localhost:8080/"
        },
        "id": "fzmoPUmnZPFs",
        "outputId": "f56d13fd-b92b-4da3-926d-e3a72bf4be95"
      },
      "execution_count": null,
      "outputs": [
        {
          "output_type": "stream",
          "name": "stdout",
          "text": [
            "[[0. 0. 0.]\n",
            " [0. 0. 0.]\n",
            " [0. 0. 0.]]\n",
            "valid_moves [0, 1, 2, 3, 4, 5, 6, 7, 8]\n",
            "1:0\n",
            "[[1. 0. 0.]\n",
            " [0. 0. 0.]\n",
            " [0. 0. 0.]]\n",
            "valid_moves [0, 1, 2, 3, 4, 5, 6, 7, 8]\n",
            "-1:4\n",
            "[[ 1.  0.  0.]\n",
            " [ 0. -1.  0.]\n",
            " [ 0.  0.  0.]]\n",
            "valid_moves [0, 1, 2, 3, 4, 5, 6, 7, 8]\n",
            "1:1\n",
            "[[ 1.  1.  0.]\n",
            " [ 0. -1.  0.]\n",
            " [ 0.  0.  0.]]\n",
            "valid_moves []\n",
            "-1:1\n",
            "action not valid\n",
            "[[ 1.  1.  0.]\n",
            " [ 0. -1.  0.]\n",
            " [ 0.  0.  0.]]\n",
            "valid_moves []\n",
            "-1:8\n",
            "[[ 1.  1.  0.]\n",
            " [ 0. -1.  0.]\n",
            " [ 0.  0. -1.]]\n",
            "valid_moves []\n",
            "1:2\n",
            "[[ 1.  1.  1.]\n",
            " [ 0. -1.  0.]\n",
            " [ 0.  0. -1.]]\n",
            "1 won\n"
          ]
        }
      ]
    },
    {
      "cell_type": "code",
      "source": [
        "state"
      ],
      "metadata": {
        "id": "8Kj4_lz3ZPCl"
      },
      "execution_count": null,
      "outputs": []
    },
    {
      "cell_type": "code",
      "source": [],
      "metadata": {
        "id": "MkuwyHBoZO-D"
      },
      "execution_count": null,
      "outputs": []
    }
  ]
}